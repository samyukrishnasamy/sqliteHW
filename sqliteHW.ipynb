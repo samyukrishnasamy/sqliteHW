{
 "cells": [
  {
   "cell_type": "code",
   "execution_count": 3,
   "metadata": {},
   "outputs": [],
   "source": [
    "import sqlite3\n",
    "import pandas as pd\n",
    "import matplotlib.pyplot as plt"
   ]
  },
  {
   "cell_type": "code",
   "execution_count": 4,
   "metadata": {},
   "outputs": [
    {
     "ename": "OperationalError",
     "evalue": "unable to open database file",
     "output_type": "error",
     "traceback": [
      "\u001b[0;31m---------------------------------------------------------------------------\u001b[0m",
      "\u001b[0;31mOperationalError\u001b[0m                          Traceback (most recent call last)",
      "Cell \u001b[0;32mIn[4], line 2\u001b[0m\n\u001b[1;32m      1\u001b[0m \u001b[38;5;66;03m# set up database\u001b[39;00m\n\u001b[0;32m----> 2\u001b[0m conn \u001b[38;5;241m=\u001b[39m sqlite3\u001b[38;5;241m.\u001b[39mconnect(\u001b[38;5;124m\"\u001b[39m\u001b[38;5;124mstudent_grades.db\u001b[39m\u001b[38;5;124m\"\u001b[39m)\n\u001b[1;32m      3\u001b[0m cursor \u001b[38;5;241m=\u001b[39m conn\u001b[38;5;241m.\u001b[39mcursor()\n\u001b[1;32m      5\u001b[0m \u001b[38;5;66;03m# create tables\u001b[39;00m\n",
      "\u001b[0;31mOperationalError\u001b[0m: unable to open database file"
     ]
    }
   ],
   "source": [
    "# set up database\n",
    "conn = sqlite3.connect(\"student_grades.db\")\n",
    "cursor = conn.cursor()\n",
    "\n",
    "# create tables\n",
    "cursor.execute('''\n",
    "CREATE TABLE IF NOT EXISTS students (\n",
    "               student_id INTEGER PRIMARY KEY AUTOINCREMENT,\n",
    "               first_name TEXT,\n",
    "               last_name TEXT\n",
    ")\n",
    "''')\n",
    "\n",
    "cursor.execute('''\n",
    "CREATE TABLE IF NOT EXISTS grades (\n",
    "               grade_id INTEGER PRIMARY KEY AUTOINCREMENT,\n",
    "               student_id INTEGER,\n",
    "               subject TEXT,\n",
    "               grade INTEGER,\n",
    "               FOREIGN KEY (student_id) REFERENCES students(student_id)\n",
    ")\n",
    "''')\n",
    "conn.commit()\n",
    "conn.close()"
   ]
  },
  {
   "cell_type": "code",
   "execution_count": 5,
   "metadata": {},
   "outputs": [
    {
     "ename": "OperationalError",
     "evalue": "unable to open database file",
     "output_type": "error",
     "traceback": [
      "\u001b[0;31m---------------------------------------------------------------------------\u001b[0m",
      "\u001b[0;31mOperationalError\u001b[0m                          Traceback (most recent call last)",
      "Cell \u001b[0;32mIn[5], line 2\u001b[0m\n\u001b[1;32m      1\u001b[0m \u001b[38;5;66;03m# insert data\u001b[39;00m\n\u001b[0;32m----> 2\u001b[0m conn \u001b[38;5;241m=\u001b[39m sqlite3\u001b[38;5;241m.\u001b[39mconnect(\u001b[38;5;124m\"\u001b[39m\u001b[38;5;124mstudent_grades.db\u001b[39m\u001b[38;5;124m\"\u001b[39m)\n\u001b[1;32m      3\u001b[0m students \u001b[38;5;241m=\u001b[39m [\n\u001b[1;32m      4\u001b[0m     (\u001b[38;5;124m\"\u001b[39m\u001b[38;5;124mAlice\u001b[39m\u001b[38;5;124m\"\u001b[39m, \u001b[38;5;124m\"\u001b[39m\u001b[38;5;124mJohnson\u001b[39m\u001b[38;5;124m\"\u001b[39m), \n\u001b[1;32m      5\u001b[0m     (\u001b[38;5;124m\"\u001b[39m\u001b[38;5;124mBob\u001b[39m\u001b[38;5;124m\"\u001b[39m, \u001b[38;5;124m\"\u001b[39m\u001b[38;5;124mSmith\u001b[39m\u001b[38;5;124m\"\u001b[39m), \n\u001b[0;32m   (...)\u001b[0m\n\u001b[1;32m      8\u001b[0m     (\u001b[38;5;124m\"\u001b[39m\u001b[38;5;124mEve\u001b[39m\u001b[38;5;124m\"\u001b[39m, \u001b[38;5;124m\"\u001b[39m\u001b[38;5;124mDavis\u001b[39m\u001b[38;5;124m\"\u001b[39m)\n\u001b[1;32m      9\u001b[0m     ]\n\u001b[1;32m     11\u001b[0m grades \u001b[38;5;241m=\u001b[39m [\n\u001b[1;32m     12\u001b[0m     (\u001b[38;5;241m1\u001b[39m, \u001b[38;5;124m'\u001b[39m\u001b[38;5;124mMath\u001b[39m\u001b[38;5;124m'\u001b[39m, \u001b[38;5;241m95\u001b[39m), (\u001b[38;5;241m1\u001b[39m, \u001b[38;5;124m'\u001b[39m\u001b[38;5;124mEnglish\u001b[39m\u001b[38;5;124m'\u001b[39m, \u001b[38;5;241m88\u001b[39m), (\u001b[38;5;241m1\u001b[39m, \u001b[38;5;124m'\u001b[39m\u001b[38;5;124mHistory\u001b[39m\u001b[38;5;124m'\u001b[39m, \u001b[38;5;241m90\u001b[39m),\n\u001b[1;32m     13\u001b[0m     (\u001b[38;5;241m2\u001b[39m, \u001b[38;5;124m'\u001b[39m\u001b[38;5;124mMath\u001b[39m\u001b[38;5;124m'\u001b[39m, \u001b[38;5;241m82\u001b[39m), (\u001b[38;5;241m2\u001b[39m, \u001b[38;5;124m'\u001b[39m\u001b[38;5;124mEnglish\u001b[39m\u001b[38;5;124m'\u001b[39m, \u001b[38;5;241m76\u001b[39m), (\u001b[38;5;241m2\u001b[39m, \u001b[38;5;124m'\u001b[39m\u001b[38;5;124mHistory\u001b[39m\u001b[38;5;124m'\u001b[39m, \u001b[38;5;241m85\u001b[39m),\n\u001b[0;32m   (...)\u001b[0m\n\u001b[1;32m     16\u001b[0m     (\u001b[38;5;241m5\u001b[39m, \u001b[38;5;124m'\u001b[39m\u001b[38;5;124mMath\u001b[39m\u001b[38;5;124m'\u001b[39m, \u001b[38;5;241m91\u001b[39m), (\u001b[38;5;241m5\u001b[39m, \u001b[38;5;124m'\u001b[39m\u001b[38;5;124mEnglish\u001b[39m\u001b[38;5;124m'\u001b[39m, \u001b[38;5;241m86\u001b[39m), (\u001b[38;5;241m5\u001b[39m, \u001b[38;5;124m'\u001b[39m\u001b[38;5;124mHistory\u001b[39m\u001b[38;5;124m'\u001b[39m, \u001b[38;5;241m88\u001b[39m)\n\u001b[1;32m     17\u001b[0m ]\n",
      "\u001b[0;31mOperationalError\u001b[0m: unable to open database file"
     ]
    }
   ],
   "source": [
    "# insert data\n",
    "conn = sqlite3.connect(\"student_grades.db\")\n",
    "students = [\n",
    "    (\"Alice\", \"Johnson\"), \n",
    "    (\"Bob\", \"Smith\"), \n",
    "    (\"Carol\", \"White\"), \n",
    "    (\"David\", \"Brown\"), \n",
    "    (\"Eve\", \"Davis\")\n",
    "    ]\n",
    "\n",
    "grades = [\n",
    "    (1, 'Math', 95), (1, 'English', 88), (1, 'History', 90),\n",
    "    (2, 'Math', 82), (2, 'English', 76), (2, 'History', 85),\n",
    "    (3, 'Math', 99), (3, 'English', 96), (3, 'History', 97),\n",
    "    (4, 'Math', 70), (4, 'English', 72), (4, 'History', 62),\n",
    "    (5, 'Math', 91), (5, 'English', 86), (5, 'History', 88)\n",
    "]\n",
    "\n",
    "cursor.executemany(\"INSERT INTO students (first_name, last_name) VALUES (?, ?)\", students)\n",
    "cursor.executemany(\"INSERT INTO grades (student_id, subject, grade) VALUES (?, ?, ?)\", grades)\n",
    "\n",
    "conn.commit()\n",
    "conn.close()"
   ]
  },
  {
   "cell_type": "code",
   "execution_count": null,
   "metadata": {},
   "outputs": [],
   "source": [
    "# excecute queries\n",
    "conn = sqlite3.connect(\"student_grades.db\")\n",
    "\n",
    "cursor.execute('''\n",
    "               SELECT students.first_name, students.last_name, grades.subject, grades.grade\n",
    "               FROM students\n",
    "               JOIN grades ON students.student_id = grades.student_id\n",
    "''')\n",
    "\n",
    "cursor.execute('''\n",
    "               SELECT students.first_name, students.last_name, AVG(grades.grade)\n",
    "               FROM students\n",
    "               JOIN grades ON students.student_id = grades.student_id\n",
    "               GROUP BY students.student_id\n",
    "''')\n",
    "\n",
    "cursor.execute('''\n",
    "               SELECT students.first_name, students.last_name\n",
    "               FROM students\n",
    "               JOIN grades ON students.student_id = grades.student_id\n",
    "               GROUP BY students.student_id\n",
    "               ORDER BY AVG(grades.grade) DESC\n",
    "               LIMIT 1\n",
    "''')\n",
    "\n",
    "cursor.execute('''\n",
    "               SELECT AVG(grade)\n",
    "               FROM grades\n",
    "               WHERE subject = \"Math\"\n",
    "               GROUP BY subject\n",
    "''')\n",
    "\n",
    "cursor.execute('''\n",
    "               SELECT DISTINCT students.first_name, students.last_name\n",
    "               FROM students\n",
    "               JOIN grades ON students.student_id = grades.student_id \n",
    "               WHERE grades.grade > 90\n",
    "\n",
    "''')\n",
    "conn.close()"
   ]
  },
  {
   "cell_type": "code",
   "execution_count": null,
   "metadata": {},
   "outputs": [],
   "source": [
    "# load data into pandas\n",
    "conn = sqlite3.connect(\"student_grades.db\")\n",
    "\n",
    "df_students = pd.read_sql_query(\"SELECT * FROM students\", conn)\n",
    "df_grades = pd.read_sql_query(\"SELECT * FROM grades\", conn)\n",
    "\n",
    "\n",
    "print(df_students)\n",
    "print(df_grades)"
   ]
  },
  {
   "cell_type": "code",
   "execution_count": null,
   "metadata": {},
   "outputs": [],
   "source": [
    "# join to make a single dataframe\n",
    "\n",
    "df_combined = pd.read_sql_query('''\n",
    "                                SELECT students.first_name, students.last_name, grades.subject, grades.grade\n",
    "                                FROM students\n",
    "                                JOIN grades ON students.student_id = grades.student_id\n",
    "                                ''', conn)\n",
    "\n",
    "print(df_combined)"
   ]
  },
  {
   "cell_type": "code",
   "execution_count": null,
   "metadata": {},
   "outputs": [],
   "source": [
    "## graphs ##\n",
    "\n",
    "# average grade per student\n",
    "df_combined['full_name'] = df_combined['first_name'] + ' ' + df_combined['last_name']\n",
    "avg_grades_per_student = df_combined.groupby('full_name')['grade'].mean()\n",
    "\n",
    "# plot\n",
    "avg_grades_per_student.plot(kind=\"bar\", title=\"Average Grades per Student\")\n",
    "plt.ylabel('Average Grade')\n",
    "plt.xlabel('Student')\n",
    "plt.tight_layout()\n",
    "plt.show()\n",
    "\n",
    "\n",
    "# average grade per student\n",
    "avg_grades_per_subject = df_combined.groupby('subject')['grade'].mean()\n",
    "\n",
    "# graph\n",
    "avg_grades_per_subject.plot(kind='bar', title='Average Grades per Subject')\n",
    "plt.ylabel('Average Grade')\n",
    "plt.xlabel('Subject')\n",
    "plt.tight_layout()\n",
    "plt.show()"
   ]
  },
  {
   "cell_type": "code",
   "execution_count": null,
   "metadata": {},
   "outputs": [],
   "source": [
    "# bonus!!\n",
    "\n",
    "# query students with the highest grade\n",
    "conn = sqlite3.connect(\"student_grades.db\")\n",
    "df_highest_grade_per_subject = pd.read_sql_query('''\n",
    "                                                SELECT students.first_name, students.last_name, grades.subject, MAX(grades.grade) as max_grade\n",
    "                                                FROM students\n",
    "                                                JOIN grades ON students.student_id = grades.student_id\n",
    "                                                GROUP BY grades.subject \n",
    "                                                ORDER BY max_grade DESC\n",
    "                                                ''', conn)\n",
    "\n",
    "\n",
    "# first and last names\n",
    "df_highest_grade_per_subject['full_name'] = df_highest_grade_per_subject['first_name'] + ' ' + df_highest_grade_per_subject['last_name']\n",
    "\n",
    "# graph\n",
    "df_highest_grade_per_subject.plot(x='subject', y='max_grade', kind='bar', title='Highest Grade in Each Subject')\n",
    "plt.ylabel('Max Grade')\n",
    "plt.xlabel('Subject')\n",
    "plt.xticks(rotation=45, ha='right')\n",
    "plt.tight_layout()\n",
    "plt.show()\n"
   ]
  },
  {
   "cell_type": "code",
   "execution_count": null,
   "metadata": {},
   "outputs": [],
   "source": [
    "# close connection\n",
    "conn.close()"
   ]
  }
 ],
 "metadata": {
  "kernelspec": {
   "display_name": "base",
   "language": "python",
   "name": "python3"
  },
  "language_info": {
   "codemirror_mode": {
    "name": "ipython",
    "version": 3
   },
   "file_extension": ".py",
   "mimetype": "text/x-python",
   "name": "python",
   "nbconvert_exporter": "python",
   "pygments_lexer": "ipython3",
   "version": "3.11.9"
  }
 },
 "nbformat": 4,
 "nbformat_minor": 2
}
